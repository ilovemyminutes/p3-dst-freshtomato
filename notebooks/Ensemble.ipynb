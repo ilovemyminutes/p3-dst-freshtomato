{
 "metadata": {
  "language_info": {
   "codemirror_mode": {
    "name": "ipython",
    "version": 3
   },
   "file_extension": ".py",
   "mimetype": "text/x-python",
   "name": "python",
   "nbconvert_exporter": "python",
   "pygments_lexer": "ipython3",
   "version": "3.7.7"
  },
  "orig_nbformat": 2,
  "kernelspec": {
   "name": "python377jvsc74a57bd098b0a9b7b4eaaa670588a142fd0a9b87eaafe866f1db4228be72b4211d12040f",
   "display_name": "Python 3.7.7 64-bit ('base': conda)"
  }
 },
 "nbformat": 4,
 "nbformat_minor": 2,
 "cells": [
  {
   "cell_type": "code",
   "execution_count": 42,
   "metadata": {},
   "outputs": [],
   "source": [
    "import os\n",
    "import sys\n",
    "from copy import deepcopy\n",
    "from glob import glob\n",
    "from tqdm import tqdm\n",
    "\n",
    "import pandas as pd\n",
    "import numpy as np\n",
    "import json\n",
    "\n",
    "def save_json(path: str, f: object) -> None:\n",
    "    with open(path, \"w\", encoding='utf-8') as json_path:\n",
    "        json.dump(\n",
    "            f,\n",
    "            json_path,\n",
    "            indent=2,\n",
    "            ensure_ascii=False\n",
    "        )\n",
    "        \n",
    "def load_json(path: str) -> dict:\n",
    "    with open(path, \"r\", encoding=\"utf-8\") as json_file:\n",
    "        output = json.load(json_file)\n",
    "    return output\n"
   ]
  },
  {
   "cell_type": "code",
   "execution_count": 43,
   "metadata": {},
   "outputs": [
    {
     "output_type": "execute_result",
     "data": {
      "text/plain": [
       "['./all-kfold/new_processed_kfold_4-predictions.csv',\n",
       " './all-kfold/new_processed_kfold_5-predictions.csv',\n",
       " './all-kfold/new_processed_kfold_1-predictions.csv',\n",
       " './all-kfold/new_processed_kfold_3-coco-predictions.csv',\n",
       " './all-kfold/new_processed_kfold_1-coco-predictions.csv']"
      ]
     },
     "metadata": {},
     "execution_count": 43
    }
   ],
   "source": [
    "glob(os.path.join('./all-kfold/*'))"
   ]
  },
  {
   "cell_type": "code",
   "execution_count": 45,
   "metadata": {},
   "outputs": [],
   "source": [
    "FOLD_DIR = './kfold'\n",
    "SLOT_META_PATH = '../input/data/train_dataset/slot_meta.json'\n",
    "\n",
    "slot_meta = load_json(SLOT_META_PATH)\n",
    "\n",
    "fold_outputs = []\n",
    "for fpath in glob(os.path.join('./all-kfold/*')):\n",
    "    fold_outputs.append(load_json(fpath))\n",
    "\n",
    "dialogue_ids = list(fold_outputs[0].keys())"
   ]
  },
  {
   "cell_type": "code",
   "execution_count": 46,
   "metadata": {},
   "outputs": [],
   "source": [
    "def get_label_table(slot_meta=slot_meta):\n",
    "    inference_table = {s:[] for s in slot_meta}\n",
    "    return inference_table\n",
    "\n",
    "def convert_state_dict(state: list) -> dict: # [도메인-슬릇-밸류] -> {도메인-슬릇: 밸류}\n",
    "    state_dict = dict()\n",
    "    for s in state:\n",
    "        dom, slot, val = s.split('-')\n",
    "        dom_slot = '-'.join([dom, slot])\n",
    "        state_dict[dom_slot] = val\n",
    "    return state_dict"
   ]
  },
  {
   "cell_type": "code",
   "execution_count": 47,
   "metadata": {},
   "outputs": [
    {
     "output_type": "stream",
     "name": "stderr",
     "text": [
      "100%|██████████| 14771/14771 [00:05<00:00, 2754.22it/s]\n"
     ]
    }
   ],
   "source": [
    "# inference\n",
    "output_dict = dict()\n",
    "\n",
    "for name in tqdm(dialogue_ids):\n",
    "    label_table = get_label_table()\n",
    "    for fold in fold_outputs:\n",
    "        pred_dict = convert_state_dict(fold[name])\n",
    "\n",
    "        for dom_slot in slot_meta:\n",
    "            pred_val = pred_dict.get(dom_slot, 'none')\n",
    "            label_table[dom_slot].append(pred_val)\n",
    "    output_dict[name] = deepcopy(label_table)"
   ]
  },
  {
   "cell_type": "code",
   "execution_count": 48,
   "metadata": {},
   "outputs": [
    {
     "output_type": "stream",
     "name": "stderr",
     "text": [
      "100%|██████████| 14771/14771 [05:58<00:00, 41.21it/s]\n"
     ]
    }
   ],
   "source": [
    "# hard voting\n",
    "output_hardvoted = dict()\n",
    "\n",
    "for name in tqdm(dialogue_ids):\n",
    "    hard_voted_outputs = []\n",
    "    for dom_slot in slot_meta:\n",
    "        hard_voted_val = (\n",
    "            pd.Series(output_dict[name][dom_slot])\n",
    "            .value_counts(ascending=False)\n",
    "            .index[0]\n",
    "            )\n",
    "\n",
    "        if hard_voted_val != 'none':\n",
    "            dom_slot_val = '-'.join([dom_slot, hard_voted_val])\n",
    "            hard_voted_outputs.append(dom_slot_val)\n",
    "    \n",
    "    output_hardvoted[name] = deepcopy(hard_voted_outputs)"
   ]
  },
  {
   "cell_type": "code",
   "execution_count": 49,
   "metadata": {},
   "outputs": [],
   "source": [
    "json.dump(output_hardvoted, open('kfold-all-ensemble.csv', 'w'), indent=2, ensure_ascii=False) "
   ]
  }
 ]
}