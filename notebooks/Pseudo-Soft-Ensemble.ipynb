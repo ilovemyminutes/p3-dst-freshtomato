{
 "metadata": {
  "language_info": {
   "codemirror_mode": {
    "name": "ipython",
    "version": 3
   },
   "file_extension": ".py",
   "mimetype": "text/x-python",
   "name": "python",
   "nbconvert_exporter": "python",
   "pygments_lexer": "ipython3",
   "version": "3.7.7"
  },
  "orig_nbformat": 2,
  "kernelspec": {
   "name": "python377jvsc74a57bd098b0a9b7b4eaaa670588a142fd0a9b87eaafe866f1db4228be72b4211d12040f",
   "display_name": "Python 3.7.7 64-bit ('base': conda)"
  }
 },
 "nbformat": 4,
 "nbformat_minor": 2,
 "cells": [
  {
   "cell_type": "code",
   "execution_count": 10,
   "metadata": {},
   "outputs": [],
   "source": [
    "import os\n",
    "import sys\n",
    "import json\n",
    "from copy import deepcopy\n",
    "from glob import glob\n",
    "import random\n",
    "from tqdm import tqdm\n",
    "import pandas as pd\n",
    "import numpy as np"
   ]
  },
  {
   "cell_type": "code",
   "execution_count": 2,
   "metadata": {},
   "outputs": [],
   "source": [
    "def save_json(path: str, f: object) -> None:\n",
    "    with open(path, \"w\", encoding='utf-8') as json_path:\n",
    "        json.dump(\n",
    "            f,\n",
    "            json_path,\n",
    "            indent=2,\n",
    "            ensure_ascii=False\n",
    "        )\n",
    "        \n",
    "def load_json(path: str) -> dict:\n",
    "    with open(path, \"r\", encoding=\"utf-8\") as json_file:\n",
    "        output = json.load(json_file)\n",
    "    return output\n",
    "\n",
    "def get_label_table(slot_meta):\n",
    "    inference_table = {s:[] for s in slot_meta}\n",
    "    return inference_table\n",
    "\n",
    "def convert_state_dict(state: list) -> dict: # [도메인-슬릇-밸류] -> {도메인-슬릇: 밸류}\n",
    "    state_dict = dict()\n",
    "    for s in state:\n",
    "        dom, slot, val = s.split('-')\n",
    "        dom_slot = '-'.join([dom, slot])\n",
    "        state_dict[dom_slot] = val\n",
    "    return state_dict"
   ]
  },
  {
   "cell_type": "code",
   "execution_count": 3,
   "metadata": {},
   "outputs": [],
   "source": [
    "FOLD_DIR = './kfold'\n",
    "SLOT_META_PATH = '../input/data/train_dataset/slot_meta.json'\n",
    "\n",
    "slot_meta = load_json(SLOT_META_PATH)\n",
    "\n",
    "fold_outputs = []\n",
    "for fpath in sorted(glob(os.path.join('./kfold/*'))):\n",
    "    fold_outputs.append(load_json(fpath))\n",
    "\n",
    "dialogue_ids = list(fold_outputs[0].keys())"
   ]
  },
  {
   "cell_type": "code",
   "execution_count": 6,
   "metadata": {},
   "outputs": [
    {
     "output_type": "stream",
     "name": "stderr",
     "text": [
      "100%|██████████| 14771/14771 [00:07<00:00, 1891.25it/s]\n"
     ]
    }
   ],
   "source": [
    "# inference\n",
    "output_dict = dict()\n",
    "\n",
    "for name in tqdm(dialogue_ids):\n",
    "    label_table = get_label_table(slot_meta)\n",
    "    for fold in fold_outputs:\n",
    "        pred_dict = convert_state_dict(fold[name])\n",
    "\n",
    "        for dom_slot in slot_meta:\n",
    "            pred_val = pred_dict.get(dom_slot, 'none')\n",
    "            label_table[dom_slot].append(pred_val)\n",
    "    output_dict[name] = deepcopy(label_table)"
   ]
  },
  {
   "cell_type": "code",
   "execution_count": 7,
   "metadata": {},
   "outputs": [
    {
     "output_type": "stream",
     "name": "stderr",
     "text": [
      "100%|██████████| 14771/14771 [09:24<00:00, 26.16it/s]\n"
     ]
    }
   ],
   "source": [
    "random.seed(42)\n",
    "weights = [0.7640, 0.7571, 0.7591, 0.7595, 0.7632] # defined by LB\n",
    "num_sampling = 500\n",
    "\n",
    "# hard voting\n",
    "output_hardvoted = dict()\n",
    "\n",
    "for name in tqdm(dialogue_ids):\n",
    "    hard_voted_outputs = []\n",
    "    for dom_slot in slot_meta:\n",
    "        val_preds = output_dict[name][dom_slot]\n",
    "\n",
    "        # 가중 복원 추출\n",
    "        bootstrapped = random.choices(\n",
    "            val_preds, weights=weights, k=num_sampling\n",
    "            )\n",
    "        \n",
    "        # 최빈값 추출\n",
    "        hard_voted_val = (\n",
    "            pd.Series(bootstrapped)\n",
    "            .value_counts(ascending=False)\n",
    "            .index[0]\n",
    "            )\n",
    "\n",
    "        if hard_voted_val != 'none':\n",
    "            dom_slot_val = '-'.join([dom_slot, hard_voted_val])\n",
    "            hard_voted_outputs.append(dom_slot_val)\n",
    "    \n",
    "    output_hardvoted[name] = deepcopy(hard_voted_outputs)"
   ]
  },
  {
   "cell_type": "code",
   "execution_count": 9,
   "metadata": {},
   "outputs": [],
   "source": [
    "json.dump(output_hardvoted, open('kfold-pseudo-soft-ensemble.csv', 'w'), indent=2, ensure_ascii=False) "
   ]
  },
  {
   "cell_type": "code",
   "execution_count": null,
   "metadata": {},
   "outputs": [],
   "source": [
    "load_json('kfold-normal-ensemble.csv')"
   ]
  }
 ]
}